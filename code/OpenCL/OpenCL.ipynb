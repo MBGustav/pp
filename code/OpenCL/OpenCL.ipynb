{
 "cells": [
  {
   "cell_type": "markdown",
   "metadata": {},
   "source": [
    "# Tutorial OpenCL \n",
    "\n",
    "Requisitos:\n",
    "- OpenCL 1.2\n",
    "- Python 2.7.16 (pyopencl 2019.1.1, numpy 1.16.5, pandas 0.24.2)"
   ]
  },
  {
   "cell_type": "code",
   "execution_count": 1,
   "metadata": {},
   "outputs": [],
   "source": [
    "#\n",
    "# Matrix Multiplication Driver\n",
    "#\n",
    "# This is a driver program to test various ways of computing\n",
    "# the product:\n",
    "#                 C = A * B\n",
    "#\n",
    "# A and B are constant matrices, square and the order is\n",
    "# set as a constant, ORDER (see definitions.py). This is so\n",
    "# we can make a quick test of the multiplication result.\n",
    "#\n",
    "# History:   C++ version written by Tim Mattson, August 2010 \n",
    "#            Modified by Simon McIntosh-Smith, September 2011\n",
    "#            Modified by Tom Deakin and Simon McIntosh-Smith, October 2012\n",
    "#            Ported to Python by Tom Deakin, July 2013\n",
    "#            Ported to Jupyter Notebooks by Ricardo Menotti, May 2020\n",
    "\n",
    "from time import time\n",
    "import pyopencl as cl\n",
    "import pandas as pd\n",
    "import numpy\n",
    "import os\n",
    "\n",
    "# Order of the square matrices A, B and C\n",
    "ORDER = 1024\n",
    "\n",
    "# A elemetns are constant and equal to AVAL\n",
    "AVAL = 3.0\n",
    "\n",
    "# B elemetns are constant and equal to BVAL\n",
    "BVAL = 5.0\n",
    "\n",
    "# tolerance used in floating point comparisons\n",
    "TOL = 0.001\n",
    "\n",
    "# Max dim for NDRange\n",
    "DIM = 2\n",
    "\n",
    "# File to read/write results\n",
    "FILENAME = 'results.csv'\n",
    "\n",
    "# number of times to do each multiplication\n",
    "COUNT = 10\n",
    "\n",
    "# Creating Pandas DataFrame \n",
    "if os.path.isfile(FILENAME):\n",
    "    df = pd.read_csv(FILENAME)\n",
    "else:\n",
    "    df = pd.DataFrame({\"version\": [], \"execution_time\": []})\n",
    "\n",
    "#  Function to compute the matrix product (sequential algorithm, dot prod)\n",
    "def seq_mat_mul_sdot(N, A, B, C):\n",
    "    for i in range(N):\n",
    "        for j in range(N):\n",
    "            tmp = 0.0\n",
    "            for k in range(N):\n",
    "                tmp += A[i*N+k] * B[k*N+j]\n",
    "            C[i*N+j] = tmp\n",
    "\n",
    "#  Function to compute errors of the product matrix\n",
    "def error(N, C):\n",
    "   cval = float(N) * AVAL * BVAL\n",
    "   errsq = 0.0\n",
    "   for i in range(N):\n",
    "       for j in range(N):\n",
    "            err = C[i*N+j] - cval\n",
    "            errsq += err * err\n",
    "   return errsq;\n",
    "\n",
    "# Function to analyze and output results\n",
    "def results(N, C, run_time):\n",
    "    mflops = 2.0 * N * N * N/(1000000.0* run_time)\n",
    "    print run_time, \"seconds at\", mflops, \"MFLOPS\"\n",
    "    errsq = error(N, C)\n",
    "    if (errsq > TOL):\n",
    "        print \"Errors in multiplication:\", errsq\n",
    "\n",
    "# A[N][N], B[N][N], C[N][N]\n",
    "N = ORDER;\n",
    "\n",
    "# Number of elements in the matrix\n",
    "size = N * N\n",
    "\n",
    "# A matrix\n",
    "h_A = numpy.empty(size).astype(numpy.float32)\n",
    "h_A.fill(AVAL)\n",
    "\n",
    "# B matrix\n",
    "h_B = numpy.empty(size).astype(numpy.float32)\n",
    "h_B.fill(BVAL)\n",
    "\n",
    "# C matrix\n",
    "h_C = numpy.empty(size).astype(numpy.float32)"
   ]
  },
  {
   "cell_type": "markdown",
   "metadata": {},
   "source": [
    "Em Python o OpenCL é um pouco mais sucinto, por exemplo, basta as duas linhas abaixo para criar um fila associada a um dispositivo/contexto. "
   ]
  },
  {
   "cell_type": "code",
   "execution_count": 2,
   "metadata": {},
   "outputs": [],
   "source": [
    "# Set the environment variable to choose platform/device \n",
    "os.environ[\"PYOPENCL_CTX\"] = '0:1'\n",
    "\n",
    "# Setup OpenCL\n",
    "context = cl.create_some_context()\n",
    "queue = cl.CommandQueue(context)\n",
    "\n",
    "# Reset host buffers - just to play it safe\n",
    "h_A = numpy.empty(size).astype(numpy.float32)\n",
    "h_A.fill(AVAL)\n",
    "h_B = numpy.empty(size).astype(numpy.float32)\n",
    "h_B.fill(BVAL)\n",
    "h_C = numpy.empty(size).astype(numpy.float32)\n",
    "\n",
    "# Create OpenCL buffers\n",
    "d_a = cl.Buffer(context, cl.mem_flags.READ_ONLY | cl.mem_flags.COPY_HOST_PTR, hostbuf=h_A)\n",
    "d_b = cl.Buffer(context, cl.mem_flags.READ_ONLY | cl.mem_flags.COPY_HOST_PTR, hostbuf=h_B)\n",
    "d_c = cl.Buffer(context, cl.mem_flags.WRITE_ONLY, h_C.nbytes)"
   ]
  },
  {
   "cell_type": "markdown",
   "metadata": {},
   "source": [
    "Na versão mais simples, cada _work-item_ calcula um elemento da matriz:"
   ]
  },
  {
   "cell_type": "code",
   "execution_count": 3,
   "metadata": {},
   "outputs": [
    {
     "name": "stdout",
     "output_type": "stream",
     "text": [
      "\r\n",
      "__kernel void mmul(\r\n",
      "    const int N,\r\n",
      "    __global float* A,\r\n",
      "    __global float* B,\r\n",
      "    __global float* C)\r\n",
      "{\r\n",
      "    int k;\r\n",
      "    int i = get_global_id(0);\r\n",
      "    int j = get_global_id(1);\r\n",
      "    float tmp;\r\n",
      "    if ((i < N) && (j < N))\r\n",
      "    {\r\n",
      "        tmp = 0.0;\r\n",
      "        for (k = 0; k < N; k++)\r\n",
      "            tmp += A[i*N+k] * B[k*N+j];\r\n",
      "        C[i*N+j] = tmp;\r\n",
      "    }\r\n",
      "}\r\n"
     ]
    }
   ],
   "source": [
    "!cat C_elem.cl"
   ]
  },
  {
   "cell_type": "code",
   "execution_count": 4,
   "metadata": {},
   "outputs": [
    {
     "name": "stdout",
     "output_type": "stream",
     "text": [
      "\n",
      "===== OpenCL, matrix mult, C(i,j) per work item, order 1024 ======\n",
      "\n",
      "0.366687059402 seconds at 5856.44787002 MFLOPS\n",
      "0.370363950729 seconds at 5798.30635182 MFLOPS\n",
      "0.37903213501 seconds at 5665.7033788 MFLOPS\n",
      "0.3608481884 seconds at 5951.21083334 MFLOPS\n",
      "0.361684083939 seconds at 5937.45686737 MFLOPS\n",
      "0.370319128036 seconds at 5799.00816732 MFLOPS\n",
      "0.399334907532 seconds at 5377.65070746 MFLOPS\n",
      "0.410527944565 seconds at 5231.02915753 MFLOPS\n",
      "0.393952846527 seconds at 5451.11849535 MFLOPS\n",
      "0.312081098557 seconds at 6881.17177853 MFLOPS\n"
     ]
    }
   ],
   "source": [
    "#--------------------------------------------------------------------------------\n",
    "# OpenCL matrix multiplication ... Naive\n",
    "#--------------------------------------------------------------------------------\n",
    "\n",
    "kernelsource = open(\"C_elem.cl\").read()\n",
    "program = cl.Program(context, kernelsource).build()\n",
    "mmul = program.mmul\n",
    "mmul.set_scalar_arg_dtypes([numpy.int32, None, None, None])\n",
    "print \"\\n===== OpenCL, matrix mult, C(i,j) per work item, order\", N, \"======\\n\"\n",
    "\n",
    "# Do the multiplication COUNT times\n",
    "for i in range(COUNT):\n",
    "    h_C.fill(0.0)\n",
    "    start_time = time()\n",
    "    mmul(queue, (N, N), None, N, d_a, d_b, d_c)\n",
    "    queue.finish()\n",
    "    run_time = time() - start_time\n",
    "    cl.enqueue_copy(queue, h_C, d_c)\n",
    "    results(N, h_C, run_time)\n",
    "    df = df.append(pd.DataFrame({\"version\": [\"naive\"], \n",
    "                                 \"execution_time\": [run_time]}))\n",
    "df.to_csv(FILENAME, index = False, header = True)"
   ]
  },
  {
   "cell_type": "markdown",
   "metadata": {},
   "source": [
    "Nesta versão, cada _work-item_ calcula uma linha da matriz:"
   ]
  },
  {
   "cell_type": "code",
   "execution_count": 5,
   "metadata": {},
   "outputs": [
    {
     "name": "stdout",
     "output_type": "stream",
     "text": [
      "\r\n",
      "__kernel void mmul(\r\n",
      "    const int N,\r\n",
      "    __global float* A,\r\n",
      "    __global float* B,\r\n",
      "    __global float* C)\r\n",
      "{\r\n",
      "    int k, j;\r\n",
      "    int i = get_global_id(0);\r\n",
      "    float tmp;\r\n",
      "    if (i < N) {\r\n",
      "        for (j = 0; j < N; j++) {\r\n",
      "            tmp = 0.0;\r\n",
      "            for (k = 0; k < N; k++)\r\n",
      "                tmp += A[i*N+k] * B[k*N+j];\r\n",
      "            C[i*N+j] = tmp;\r\n",
      "        }\r\n",
      "    }\r\n",
      "}\r\n"
     ]
    }
   ],
   "source": [
    "!cat C_row.cl"
   ]
  },
  {
   "cell_type": "code",
   "execution_count": 6,
   "metadata": {},
   "outputs": [
    {
     "name": "stdout",
     "output_type": "stream",
     "text": [
      "\n",
      "===== OpenCL, matrix mult, C row per work item, order 1024 ======\n",
      "\n",
      "0.733272790909 seconds at 2928.62857401 MFLOPS\n",
      "0.794655799866 seconds at 2702.40731693 MFLOPS\n",
      "0.714741945267 seconds at 3004.55802576 MFLOPS\n",
      "0.804294109344 seconds at 2670.02284743 MFLOPS\n",
      "0.804880857468 seconds at 2668.07643402 MFLOPS\n",
      "0.794216871262 seconds at 2703.90081816 MFLOPS\n",
      "0.801204919815 seconds at 2680.31760027 MFLOPS\n",
      "0.789617061615 seconds at 2719.65203438 MFLOPS\n",
      "0.795068025589 seconds at 2701.00617668 MFLOPS\n",
      "0.785460948944 seconds at 2734.0425401 MFLOPS\n"
     ]
    }
   ],
   "source": [
    "#--------------------------------------------------------------------------------\n",
    "# OpenCL matrix multiplication ... C row per work item\n",
    "#--------------------------------------------------------------------------------\n",
    "\n",
    "kernelsource = open(\"C_row.cl\").read()\n",
    "program = cl.Program(context, kernelsource).build()\n",
    "mmul = program.mmul\n",
    "mmul.set_scalar_arg_dtypes([numpy.int32, None, None, None])\n",
    "print \"\\n===== OpenCL, matrix mult, C row per work item, order\", N, \"======\\n\"\n",
    "# Do the multiplication COUNT times\n",
    "for i in range(COUNT):\n",
    "    h_C.fill(0.0)\n",
    "    start_time = time()\n",
    "    mmul(queue, (N,), (ORDER/16,), N, d_a, d_b, d_c)\n",
    "    queue.finish()\n",
    "    run_time = time() - start_time\n",
    "    cl.enqueue_copy(queue, h_C, d_c)\n",
    "    results(N, h_C, run_time)\n",
    "    df = df.append(pd.DataFrame({\"version\": [\"C row per work item\"], \n",
    "                                 \"execution_time\": [run_time]}))\n",
    "df.to_csv(FILENAME, index = False, header = True)"
   ]
  },
  {
   "cell_type": "markdown",
   "metadata": {},
   "source": [
    "Agora fazemos o mesmo, mas antes copiamos uma linha da matriz A em memória privada "
   ]
  },
  {
   "cell_type": "code",
   "execution_count": 7,
   "metadata": {},
   "outputs": [
    {
     "name": "stdout",
     "output_type": "stream",
     "text": [
      "\r\n",
      "__kernel void mmul(\r\n",
      "    const int N,\r\n",
      "    __global float* A,\r\n",
      "    __global float* B,\r\n",
      "    __global float* C)\r\n",
      "{\r\n",
      "    int k, j;\r\n",
      "    int i = get_global_id(0);\r\n",
      "    float Awrk[1024];\r\n",
      "    float tmp;\r\n",
      "    if (i < N) {\r\n",
      "        for (k = 0; k < N; k++)\r\n",
      "            Awrk[k] = A[i*N+k];\r\n",
      "\r\n",
      "        for (j = 0; j < N; j++) {\r\n",
      "            tmp = 0.0f;\r\n",
      "            for (k = 0; k < N; k++)\r\n",
      "                tmp += Awrk[k] * B[k*N+j];\r\n",
      "            C[i*N+j] = tmp;\r\n",
      "        }\r\n",
      "    }\r\n",
      "}\r\n"
     ]
    }
   ],
   "source": [
    "!cat C_row_priv.cl"
   ]
  },
  {
   "cell_type": "code",
   "execution_count": 8,
   "metadata": {},
   "outputs": [
    {
     "name": "stdout",
     "output_type": "stream",
     "text": [
      "\n",
      "===== OpenCL, matrix mult, C row, A row in priv mem, order 1024 ======\n",
      "\n",
      "0.792226791382 seconds at 2710.69303811 MFLOPS\n",
      "0.777975082397 seconds at 2760.35016621 MFLOPS\n",
      "0.730277061462 seconds at 2940.64234155 MFLOPS\n",
      "0.717947006226 seconds at 2991.14506973 MFLOPS\n",
      "0.784157991409 seconds at 2738.58542733 MFLOPS\n",
      "0.783801078796 seconds at 2739.83247293 MFLOPS\n",
      "0.795078039169 seconds at 2700.97215896 MFLOPS\n",
      "0.782465934753 seconds at 2744.50752757 MFLOPS\n",
      "0.781754016876 seconds at 2747.00686103 MFLOPS\n",
      "0.790980100632 seconds at 2714.96545398 MFLOPS\n"
     ]
    }
   ],
   "source": [
    "#--------------------------------------------------------------------------------\n",
    "# OpenCL matrix multiplication ... C row per work item, A row in private memory\n",
    "#--------------------------------------------------------------------------------\n",
    "\n",
    "kernelsource = open(\"C_row_priv.cl\").read()\n",
    "program = cl.Program(context, kernelsource).build()\n",
    "mmul = program.mmul\n",
    "mmul.set_scalar_arg_dtypes([numpy.int32, None, None, None])\n",
    "print \"\\n===== OpenCL, matrix mult, C row, A row in priv mem, order\", N, \"======\\n\"\n",
    "# Do the multiplication COUNT times\n",
    "for i in range(COUNT):\n",
    "    h_C.fill(0.0)\n",
    "    start_time = time()\n",
    "    mmul(queue, (N,), (ORDER/16,), N, d_a, d_b, d_c)\n",
    "    queue.finish()\n",
    "    run_time = time() - start_time\n",
    "    cl.enqueue_copy(queue, h_C, d_c)\n",
    "    results(N, h_C, run_time)\n",
    "    df = df.append(pd.DataFrame({\"version\": [\"C row, A row in priv mem\"], \n",
    "                                 \"execution_time\": [run_time]}))\n",
    "df.to_csv(FILENAME, index = False, header = True)"
   ]
  },
  {
   "cell_type": "markdown",
   "metadata": {},
   "source": [
    "Agora vamos usar a memória local para a coluna B da matriz a ser calculada "
   ]
  },
  {
   "cell_type": "code",
   "execution_count": 9,
   "metadata": {},
   "outputs": [
    {
     "name": "stdout",
     "output_type": "stream",
     "text": [
      "\r\n",
      "__kernel void mmul(\r\n",
      "    const int N,\r\n",
      "    __global float* A,\r\n",
      "    __global float* B,\r\n",
      "    __global float* C,\r\n",
      "    __local float* Bwrk)\r\n",
      "{\r\n",
      "    int k, j;\r\n",
      "    int i    = get_global_id(0);\r\n",
      "    int iloc = get_local_id(0);\r\n",
      "    int nloc = get_local_size(0);\r\n",
      "    float Awrk[1024];\r\n",
      "    float tmp;\r\n",
      "    if (i < N) {\r\n",
      "        for (k = 0; k < N; k++)\r\n",
      "            Awrk[k] = A[i*N+k];\r\n",
      "\r\n",
      "        for (j = 0; j < N; j++) {\r\n",
      "            barrier(CLK_LOCAL_MEM_FENCE);\r\n",
      "            for (k = iloc; k < N; k += nloc)\r\n",
      "                Bwrk[k] = B[k*N+j];\r\n",
      "            barrier(CLK_LOCAL_MEM_FENCE);\r\n",
      "            tmp = 0.0f;\r\n",
      "            for (k = 0; k < N; k++)\r\n",
      "                tmp += Awrk[k] * Bwrk[k];\r\n",
      "            C[i*N+j] = tmp;\r\n",
      "            barrier(CLK_LOCAL_MEM_FENCE);\r\n",
      "        }\r\n",
      "    }\r\n",
      "}\r\n"
     ]
    }
   ],
   "source": [
    "!cat C_row_priv_bloc.cl"
   ]
  },
  {
   "cell_type": "code",
   "execution_count": 10,
   "metadata": {},
   "outputs": [
    {
     "name": "stdout",
     "output_type": "stream",
     "text": [
      "\n",
      "===== OpenCL, mat mult, C row, priv A, B cols loc, order 1024 ======\n",
      "\n",
      "0.47071814537 seconds at 4562.14333167 MFLOPS\n",
      "0.452841043472 seconds at 4742.24604628 MFLOPS\n",
      "0.447459936142 seconds at 4799.27581118 MFLOPS\n",
      "0.446505069733 seconds at 4809.53922715 MFLOPS\n",
      "0.449654102325 seconds at 4775.85690177 MFLOPS\n",
      "0.375931978226 seconds at 5712.42611 MFLOPS\n",
      "0.413671016693 seconds at 5191.28380124 MFLOPS\n",
      "0.360997915268 seconds at 5948.74251949 MFLOPS\n",
      "0.448358058929 seconds at 4789.66220241 MFLOPS\n",
      "0.450079917908 seconds at 4771.33851691 MFLOPS\n"
     ]
    }
   ],
   "source": [
    "#--------------------------------------------------------------------------------\n",
    "# OpenCL matrix multiplication ... C row per work item, A row private, B col local\n",
    "#--------------------------------------------------------------------------------\n",
    "\n",
    "kernelsource = open(\"C_row_priv_bloc.cl\").read()\n",
    "program = cl.Program(context, kernelsource).build()\n",
    "mmul = program.mmul\n",
    "mmul.set_scalar_arg_dtypes([numpy.int32, None, None, None, None])\n",
    "print \"\\n===== OpenCL, mat mult, C row, priv A, B cols loc, order\", N, \"======\\n\"\n",
    "# Do the multiplication COUNT times\n",
    "for i in range(COUNT):\n",
    "    h_C.fill(0.0)\n",
    "    start_time = time()\n",
    "    localmem = cl.LocalMemory(numpy.dtype(numpy.float32).itemsize * N)\n",
    "    mmul(queue, (N,), (ORDER/16,), N, d_a, d_b, d_c, localmem)\n",
    "    queue.finish()\n",
    "    run_time = time() - start_time\n",
    "    cl.enqueue_copy(queue, h_C, d_c)\n",
    "    results(N, h_C, run_time)\n",
    "    df = df.append(pd.DataFrame({\"version\": [\"C row, priv A, B cols loc\"], \n",
    "                                 \"execution_time\": [run_time]}))\n",
    "df.to_csv(FILENAME, index = False, header = True)"
   ]
  },
  {
   "cell_type": "markdown",
   "metadata": {},
   "source": [
    "Por fim, temos uma versão que calcula por blocos:"
   ]
  },
  {
   "cell_type": "code",
   "execution_count": 11,
   "metadata": {},
   "outputs": [
    {
     "name": "stdout",
     "output_type": "stream",
     "text": [
      "//-------------------------------------------------------------\r\n",
      "//\r\n",
      "//  PROGRAM: Blocked Matrix Multipliplication kernel\r\n",
      "//\r\n",
      "//  PURPOSE: Computes an element of the proudct matrix\r\n",
      "//\r\n",
      "//              C = A * B\r\n",
      "//\r\n",
      "//           Using the well known blocked algorithm.  \r\n",
      "//\r\n",
      "//           To derive this algorithm, start with the naive\r\n",
      "//           triply nested loop algorithm with a dot product \r\n",
      "//           for each element of C.  Decompose each loop \r\n",
      "//           into blocks of size blcksz.  This gives you 6\r\n",
      "//           nested loops with three loops over blocks\r\n",
      "//           and three loops over indices inside the blocks.\r\n",
      "// \r\n",
      "//           Rearrange the loops to put the 3 loops over blocks \r\n",
      "//           at the outermost loops of the loop nest.  You'll\r\n",
      "//           see that the three \"inner\" loops are just the \r\n",
      "//           regular matrix product between blocks.\r\n",
      "//\r\n",
      "//           The algorithms is simple.  Keeping all the indices\r\n",
      "//           straight is not.  We will use the following \r\n",
      "//           conventions:\r\n",
      "//\r\n",
      "//             i,j,k            ... indices of full, global matrices \r\n",
      "//             Iblk, Jblk, Kblk ... indices of matrix blocks\r\n",
      "//             iloc, jloc, kloc ... indices inside blocks\r\n",
      "//                 \r\n",
      "//  HISTORY: Written by Tim Mattson, November 2013 \r\n",
      "//           Updated by Simon McIntosh-Smith, August 2014 \r\n",
      "//\r\n",
      "//  LICENSE: This work is licensed under the Creative Commons\r\n",
      "//           Attribution 4.0 International License.\r\n",
      "//           To view a copy of this license, visit\r\n",
      "//           http://creativecommons.org/licenses/by/4.0/\r\n",
      "//           or send a letter to:\r\n",
      "//              Creative Commons,\r\n",
      "//              444 Castro Street, Suite 900,\r\n",
      "//              Mountain View, California, 94041, USA.\r\n",
      "//\r\n",
      "//-------------------------------------------------------------\r\n",
      "\r\n",
      "// It turns out that the compiler generates much better code if\r\n",
      "// we \"hardwire\" this block size.  16 works well for an NVIDIA \r\n",
      "// GPU, 32 works well for a CPU\r\n",
      "#define blksz 16\r\n",
      "\r\n",
      "__kernel void mmul(\r\n",
      "                const unsigned int             N,\r\n",
      "                __global const float* restrict A,\r\n",
      "                __global const float* restrict B,\r\n",
      "                __global       float* restrict C,\r\n",
      "                __local        float* restrict Awrk,\r\n",
      "                __local        float* restrict Bwrk)\r\n",
      "{\r\n",
      "    int kloc, Kblk;\r\n",
      "    float Ctmp=0.0f;\r\n",
      "\r\n",
      "    //  This work-item will compute element C(i,j)\r\n",
      "    const int i = get_global_id(0);\r\n",
      "    const int j = get_global_id(1);\r\n",
      "\r\n",
      "    // Element C(i,j) is in block C(Iblk,Jblk)\r\n",
      "    const int Iblk = get_group_id(0);\r\n",
      "    const int Jblk = get_group_id(1);\r\n",
      "\r\n",
      "    // C(i,j) is element C(iloc, jloc) of block C(Iblk, Jblk)\r\n",
      "    const int iloc = get_local_id(0);\r\n",
      "    const int jloc = get_local_id(1);\r\n",
      "\r\n",
      "    // The number of blocks are the same in each dimension\r\n",
      "    const int Num_BLK = N/blksz;\r\n",
      "\r\n",
      "    // Setup the upper-left-corner (base address) for the A and\r\n",
      "    // B blocks plus the increments to advance base addresses as\r\n",
      "    // we loop over blocks\r\n",
      "          int Abase = Jblk*N*blksz;    \r\n",
      "    const int Ainc  = blksz;\r\n",
      "\r\n",
      "          int Bbase = Iblk*blksz;\r\n",
      "    const int Binc  = blksz*N;\r\n",
      "\r\n",
      "\r\n",
      "    // C(Iblk,Jblk) = (sum over Kblk) A(Iblk,Kblk)*B(Kblk,Jblk)\r\n",
      "    for (Kblk = 0;  Kblk<Num_BLK;  Kblk++)\r\n",
      "    {\r\n",
      "       // Load A(Iblk,Kblk) and B(Kblk,Jblk) into local memory.\r\n",
      "       // Each work-item loads a single element of the two blocks\r\n",
      "       // which are shared with the entire work-group.\r\n",
      "\r\n",
      "       Awrk[jloc*blksz+iloc] = A[Abase+jloc*N+iloc];\r\n",
      "       Bwrk[jloc*blksz+iloc] = B[Bbase+jloc*N+iloc];\r\n",
      "\r\n",
      "       barrier(CLK_LOCAL_MEM_FENCE);\r\n",
      "\r\n",
      "       // Compute dot products over local blocks to find\r\n",
      "       // the contribution to C(i,j) from this block\r\n",
      "       #pragma unroll\r\n",
      "       for (kloc=0; kloc<blksz; kloc++)\r\n",
      "          Ctmp += Awrk[jloc*blksz+kloc] * Bwrk[kloc*blksz+iloc];\r\n",
      "\r\n",
      "       barrier(CLK_LOCAL_MEM_FENCE);\r\n",
      "       Abase += Ainc;\r\n",
      "       Bbase += Binc;\r\n",
      "    }\r\n",
      " \r\n",
      "    // update global C matrix \r\n",
      "    C[j*N+i] = Ctmp;\r\n",
      "\r\n",
      "}\r\n"
     ]
    }
   ],
   "source": [
    "!cat C_block_form.cl"
   ]
  },
  {
   "cell_type": "code",
   "execution_count": 12,
   "metadata": {},
   "outputs": [
    {
     "name": "stdout",
     "output_type": "stream",
     "text": [
      "\n",
      "==== Parallel matrix mult (blocked), order 1024 on device ======\n",
      "\n",
      "0.0693981647491 seconds at 30944.386725 MFLOPS\n",
      "0.0634281635284 seconds at 33856.9419094 MFLOPS\n",
      "0.0715010166168 seconds at 30034.3092953 MFLOPS\n",
      "0.0732309818268 seconds at 29324.7966152 MFLOPS\n",
      "0.0717470645905 seconds at 29931.3102251 MFLOPS\n",
      "0.0733599662781 seconds at 29273.2365751 MFLOPS\n",
      "0.0691738128662 seconds at 31044.7488583 MFLOPS\n",
      "0.0714139938354 seconds at 30070.9081325 MFLOPS\n",
      "0.0740778446198 seconds at 28989.5536111 MFLOPS\n",
      "0.0696201324463 seconds at 30845.7277018 MFLOPS\n"
     ]
    }
   ],
   "source": [
    "#--------------------------------------------------------------------------------\n",
    "# OpenCL matrix multiplication ... blocked\n",
    "#--------------------------------------------------------------------------------\n",
    "\n",
    "kernelsource = open(\"C_block_form.cl\").read()\n",
    "program = cl.Program(context, kernelsource).build()\n",
    "mmul = program.mmul\n",
    "mmul.set_scalar_arg_dtypes([numpy.int32, None, None, None, None, None])\n",
    "print \"\\n==== Parallel matrix mult (blocked), order {0} on device ======\\n\".format(N)\n",
    "# Do the multiplication COUNT times\n",
    "for i in range(COUNT):\n",
    "    h_C.fill(0.0)\n",
    "    start_time = time()\n",
    "    # Work-group computes a block of C. This size is also set\n",
    "    # in a #define inside the kernel function. Note this blocksize\n",
    "    # must evenly divide the matrix order\n",
    "    blocksize = 16\n",
    "    A_block = cl.LocalMemory(numpy.dtype(numpy.float32).itemsize * blocksize * blocksize)\n",
    "    B_block = cl.LocalMemory(numpy.dtype(numpy.float32).itemsize * blocksize * blocksize)\n",
    "    mmul(queue, (N,N), (blocksize,blocksize), N,\n",
    "        d_a, d_b, d_c, A_block, B_block)\n",
    "    queue.finish()\n",
    "    run_time = time() - start_time\n",
    "    cl.enqueue_copy(queue, h_C, d_c)\n",
    "    results(N, h_C, run_time)\n",
    "    df = df.append(pd.DataFrame({\"version\": [\"blocked\"], \n",
    "                                 \"execution_time\": [run_time]}))\n",
    "df.to_csv(FILENAME, index = False, header = True)"
   ]
  },
  {
   "cell_type": "code",
   "execution_count": 14,
   "metadata": {},
   "outputs": [
    {
     "data": {
      "image/png": "[encoded data removed]",
      "text/plain": [
       "<Figure size 432x288 with 1 Axes>"
      ]
     },
     "metadata": {
      "needs_background": "light"
     },
     "output_type": "display_data"
    }
   ],
   "source": [
    "# Plot results\n",
    "df = pd.read_csv(FILENAME)\n",
    "by_version = df.groupby(by=\"version\", sort=False)\n",
    "avg_time = by_version.mean()\n",
    "std = by_version.std()\n",
    "plt = avg_time.plot(legend=False, kind=\"bar\", yerr=std);\n",
    "plt.set_title(\"Average execution time\");\n",
    "plt.set_ylabel(\"Execution time (seconds)\");\n",
    "plt.get_figure().savefig(\"results.pdf\")"
   ]
  },
  {
   "cell_type": "markdown",
   "metadata": {},
   "source": [
    "# Referências\n",
    "\n",
    "* [Hands On OpenCL](http://handsonopencl.github.io/)"
   ]
  }
 ],
 "metadata": {
  "kernelspec": {
   "display_name": "Python 3",
   "language": "python",
   "name": "python3"
  },
  "language_info": {
   "codemirror_mode": {
    "name": "ipython",
    "version": 2
   },
   "file_extension": ".py",
   "mimetype": "text/x-python",
   "name": "python",
   "nbconvert_exporter": "python",
   "pygments_lexer": "ipython2",
   "version": "2.7.16"
  }
 },
 "nbformat": 4,
 "nbformat_minor": 4
}
